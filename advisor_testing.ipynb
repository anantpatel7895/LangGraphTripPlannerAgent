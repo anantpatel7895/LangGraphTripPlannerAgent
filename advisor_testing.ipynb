{
 "cells": [
  {
   "cell_type": "code",
   "execution_count": 1,
   "metadata": {},
   "outputs": [
    {
     "name": "stdout",
     "output_type": "stream",
     "text": [
      "response is :  ChatCompletionMessage(content=None, role='assistant', function_call=None, reasoning=None, tool_calls=[ChatCompletionMessageToolCall(id='call_24jm', function=Function(arguments='{\"origin_city\": \"Bangaluru\", \"destination_city\": \"GHoora\"}', name='HumanAssistantTool'), type='function')])\n",
      "state is :  {'chat_history': [ChatCompletionMessage(content=None, role='assistant', function_call=None, reasoning=None, tool_calls=[ChatCompletionMessageToolCall(id='call_24jm', function=Function(arguments='{\"origin_city\": \"Bangaluru\", \"destination_city\": \"GHoora\"}', name='HumanAssistantTool'), type='function')])], 'origin_city': 'Bangaluru', 'destination_city': 'GHoora'}\n",
      "in HumanAssistantTool\n"
     ]
    }
   ],
   "source": [
    "from app.graph_main import AIAssistant\n",
    "\n",
    "\n",
    "inputs = {\n",
    "    \"origin_city\":\"Bangaluru\",\n",
    "    \"destination\":\"GHoora\"\n",
    "    }\n",
    "\n",
    "app = AIAssistant()\n",
    "result = app.query_trip_advisor(inputs)"
   ]
  },
  {
   "cell_type": "code",
   "execution_count": 4,
   "metadata": {},
   "outputs": [],
   "source": [
    "from IPython.display import Image, display\n",
    "\n",
    "try:\n",
    "    display(Image(app.advisor_graph.get_graph().draw_mermaid_png()))\n",
    "except Exception:\n",
    "    # This requires some extra dependencies and is optional\n",
    "    pass"
   ]
  },
  {
   "cell_type": "code",
   "execution_count": 2,
   "metadata": {},
   "outputs": [],
   "source": [
    "a = input()"
   ]
  },
  {
   "cell_type": "code",
   "execution_count": null,
   "metadata": {},
   "outputs": [],
   "source": []
  }
 ],
 "metadata": {
  "kernelspec": {
   "display_name": "my_venv",
   "language": "python",
   "name": "python3"
  },
  "language_info": {
   "codemirror_mode": {
    "name": "ipython",
    "version": 3
   },
   "file_extension": ".py",
   "mimetype": "text/x-python",
   "name": "python",
   "nbconvert_exporter": "python",
   "pygments_lexer": "ipython3",
   "version": "3.12.1"
  }
 },
 "nbformat": 4,
 "nbformat_minor": 2
}
